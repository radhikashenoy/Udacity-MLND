{
 "cells": [
  {
   "cell_type": "markdown",
   "metadata": {
    "collapsed": true
   },
   "source": [
    "# Image Classification\n",
    "In this project, you'll classify images from the [CIFAR-10 dataset](https://www.cs.toronto.edu/~kriz/cifar.html).  The dataset consists of airplanes, dogs, cats, and other objects. You'll preprocess the images, then train a convolutional neural network on all the samples. The images need to be normalized and the labels need to be one-hot encoded.  You'll get to apply what you learned and build a convolutional, max pooling, dropout, and fully connected layers.  At the end, you'll get to see your neural network's predictions on the sample images.\n",
    "## Get the Data\n",
    "Run the following cell to download the [CIFAR-10 dataset for python](https://www.cs.toronto.edu/~kriz/cifar-10-python.tar.gz)."
   ]
  },
  {
   "cell_type": "code",
   "execution_count": 1,
   "metadata": {
    "collapsed": false
   },
   "outputs": [
    {
     "name": "stdout",
     "output_type": "stream",
     "text": [
      "All files found!\n"
     ]
    }
   ],
   "source": [
    "\"\"\"\n",
    "DON'T MODIFY ANYTHING IN THIS CELL THAT IS BELOW THIS LINE\n",
    "\"\"\"\n",
    "from urllib.request import urlretrieve\n",
    "from os.path import isfile, isdir\n",
    "from tqdm import tqdm\n",
    "import problem_unittests as tests\n",
    "import tarfile\n",
    "\n",
    "cifar10_dataset_folder_path = 'cifar-10-batches-py'\n",
    "\n",
    "class DLProgress(tqdm):\n",
    "    last_block = 0\n",
    "\n",
    "    def hook(self, block_num=1, block_size=1, total_size=None):\n",
    "        self.total = total_size\n",
    "        self.update((block_num - self.last_block) * block_size)\n",
    "        self.last_block = block_num\n",
    "\n",
    "if not isfile('cifar-10-python.tar.gz'):\n",
    "    with DLProgress(unit='B', unit_scale=True, miniters=1, desc='CIFAR-10 Dataset') as pbar:\n",
    "        urlretrieve(\n",
    "            'https://www.cs.toronto.edu/~kriz/cifar-10-python.tar.gz',\n",
    "            'cifar-10-python.tar.gz',\n",
    "            pbar.hook)\n",
    "\n",
    "if not isdir(cifar10_dataset_folder_path):\n",
    "    with tarfile.open('cifar-10-python.tar.gz') as tar:\n",
    "        tar.extractall()\n",
    "        tar.close()\n",
    "\n",
    "\n",
    "tests.test_folder_path(cifar10_dataset_folder_path)"
   ]
  },
  {
   "cell_type": "markdown",
   "metadata": {},
   "source": [
    "## Explore the Data\n",
    "The dataset is broken into batches to prevent your machine from running out of memory.  The CIFAR-10 dataset consists of 5 batches, named `data_batch_1`, `data_batch_2`, etc.. Each batch contains the labels and images that are one of the following:\n",
    "* airplane\n",
    "* automobile\n",
    "* bird\n",
    "* cat\n",
    "* deer\n",
    "* dog\n",
    "* frog\n",
    "* horse\n",
    "* ship\n",
    "* truck\n",
    "\n",
    "Understanding a dataset is part of making predictions on the data.  Play around with the code cell below by changing the `batch_id` and `sample_id`. The `batch_id` is the id for a batch (1-5). The `sample_id` is the id for a image and label pair in the batch.\n",
    "\n",
    "Ask yourself \"What are all possible labels?\", \"What is the range of values for the image data?\", \"Are the labels in order or random?\".  Answers to questions like these will help you preprocess the data and end up with better predictions."
   ]
  },
  {
   "cell_type": "code",
   "execution_count": 2,
   "metadata": {
    "collapsed": false
   },
   "outputs": [
    {
     "name": "stdout",
     "output_type": "stream",
     "text": [
      "\n",
      "Stats of batch 5:\n",
      "Samples: 10000\n",
      "Label Counts: {0: 1014, 1: 1014, 2: 952, 3: 1016, 4: 997, 5: 1025, 6: 980, 7: 977, 8: 1003, 9: 1022}\n",
      "First 20 Labels: [1, 8, 5, 1, 5, 7, 4, 3, 8, 2, 7, 2, 0, 1, 5, 9, 6, 2, 0, 8]\n",
      "\n",
      "Example of Image 6:\n",
      "Image - Min Value: 12 Max Value: 188\n",
      "Image - Shape: (32, 32, 3)\n",
      "Label - Label Id: 4 Name: deer\n"
     ]
    },
    {
     "data": {
      "image/png": "[encoded data removed]",
      "text/plain": [
       "<matplotlib.figure.Figure at 0x1c054fa0c50>"
      ]
     },
     "metadata": {
      "image/png": {
       "height": 250,
       "width": 253
      }
     },
     "output_type": "display_data"
    }
   ],
   "source": [
    "%matplotlib inline\n",
    "%config InlineBackend.figure_format = 'retina'\n",
    "\n",
    "import helper\n",
    "import numpy as np\n",
    "\n",
    "# Explore the dataset\n",
    "batch_id = 5\n",
    "sample_id = 6\n",
    "helper.display_stats(cifar10_dataset_folder_path, batch_id, sample_id)"
   ]
  },
  {
   "cell_type": "markdown",
   "metadata": {},
   "source": [
    "## Implement Preprocess Functions\n",
    "### Normalize\n",
    "In the cell below, implement the `normalize` function to take in image data, `x`, and return it as a normalized Numpy array. The values should be in the range of 0 to 1, inclusive.  The return object should be the same shape as `x`."
   ]
  },
  {
   "cell_type": "code",
   "execution_count": 3,
   "metadata": {
    "collapsed": false
   },
   "outputs": [
    {
     "name": "stdout",
     "output_type": "stream",
     "text": [
      "Tests Passed\n"
     ]
    }
   ],
   "source": [
    "def normalize(x):\n",
    "    \"\"\"\n",
    "    Normalize a list of sample image data in the range of 0 to 1\n",
    "    : x: List of image data.  The image shape is (32, 32, 3)\n",
    "    : return: Numpy array of normalize data\n",
    "    \"\"\"\n",
    "    # TODO: Implement Function\n",
    "    \n",
    "    return np.array(x/255)\n",
    "\n",
    "\"\"\"\n",
    "DON'T MODIFY ANYTHING IN THIS CELL THAT IS BELOW THIS LINE\n",
    "\"\"\"\n",
    "tests.test_normalize(normalize)"
   ]
  },
  {
   "cell_type": "markdown",
   "metadata": {},
   "source": [
    "### One-hot encode\n",
    "Just like the previous code cell, you'll be implementing a function for preprocessing.  This time, you'll implement the `one_hot_encode` function. The input, `x`, are a list of labels.  Implement the function to return the list of labels as One-Hot encoded Numpy array.  The possible values for labels are 0 to 9. The one-hot encoding function should return the same encoding for each value between each call to `one_hot_encode`.  Make sure to save the map of encodings outside the function.\n",
    "\n",
    "**Hint:**\n",
    "\n",
    "Look into LabelBinarizer in the preprocessing module of sklearn."
   ]
  },
  {
   "cell_type": "code",
   "execution_count": 4,
   "metadata": {
    "collapsed": false
   },
   "outputs": [
    {
     "name": "stdout",
     "output_type": "stream",
     "text": [
      "Tests Passed\n"
     ]
    }
   ],
   "source": [
    "from sklearn.preprocessing import OneHotEncoder\n",
    "onehotEncoder = OneHotEncoder(n_values=10)\n",
    "def one_hot_encode(x):\n",
    "    \"\"\"\n",
    "    One hot encode a list of sample labels. Return a one-hot encoded vector for each label.\n",
    "    : x: List of sample Labels\n",
    "    : return: Numpy array of one-hot encoded labels\n",
    "    \"\"\"\n",
    "    # TODO: Implement Function\n",
    "    n = np.array(x).reshape(-1,1)\n",
    "    return onehotEncoder.fit_transform(n).toarray()\n",
    "\n",
    "\n",
    "\"\"\"\n",
    "DON'T MODIFY ANYTHING IN THIS CELL THAT IS BELOW THIS LINE\n",
    "\"\"\"\n",
    "tests.test_one_hot_encode(one_hot_encode)"
   ]
  },
  {
   "cell_type": "markdown",
   "metadata": {},
   "source": [
    "### Randomize Data\n",
    "As you saw from exploring the data above, the order of the samples are randomized.  It doesn't hurt to randomize it again, but you don't need to for this dataset."
   ]
  },
  {
   "cell_type": "markdown",
   "metadata": {},
   "source": [
    "## Preprocess all the data and save it\n",
    "Running the code cell below will preprocess all the CIFAR-10 data and save it to file. The code below also uses 10% of the training data for validation."
   ]
  },
  {
   "cell_type": "code",
   "execution_count": 5,
   "metadata": {
    "collapsed": false
   },
   "outputs": [],
   "source": [
    "\"\"\"\n",
    "DON'T MODIFY ANYTHING IN THIS CELL\n",
    "\"\"\"\n",
    "# Preprocess Training, Validation, and Testing Data\n",
    "helper.preprocess_and_save_data(cifar10_dataset_folder_path, normalize, one_hot_encode)"
   ]
  },
  {
   "cell_type": "markdown",
   "metadata": {},
   "source": [
    "# Check Point\n",
    "This is your first checkpoint.  If you ever decide to come back to this notebook or have to restart the notebook, you can start from here.  The preprocessed data has been saved to disk."
   ]
  },
  {
   "cell_type": "code",
   "execution_count": 6,
   "metadata": {
    "collapsed": false
   },
   "outputs": [],
   "source": [
    "\"\"\"\n",
    "DON'T MODIFY ANYTHING IN THIS CELL\n",
    "\"\"\"\n",
    "import pickle\n",
    "import problem_unittests as tests\n",
    "import helper\n",
    "\n",
    "# Load the Preprocessed Validation data\n",
    "valid_features, valid_labels = pickle.load(open('preprocess_validation.p', mode='rb'))"
   ]
  },
  {
   "cell_type": "markdown",
   "metadata": {},
   "source": [
    "## Build the network\n",
    "For the neural network, you'll build each layer into a function.  Most of the code you've seen has been outside of functions. To test your code more thoroughly, we require that you put each layer in a function.  This allows us to give you better feedback and test for simple mistakes using our unittests before you submit your project.\n",
    "\n",
    ">**Note:** If you're finding it hard to dedicate enough time for this course each week, we've provided a small shortcut to this part of the project. In the next couple of problems, you'll have the option to use classes from the [TensorFlow Layers](https://www.tensorflow.org/api_docs/python/tf/layers) or [TensorFlow Layers (contrib)](https://www.tensorflow.org/api_guides/python/contrib.layers) packages to build each layer, except the layers you build in the \"Convolutional and Max Pooling Layer\" section.  TF Layers is similar to Keras's and TFLearn's abstraction to layers, so it's easy to pickup.\n",
    "\n",
    ">However, if you would like to get the most out of this course, try to solve all the problems _without_ using anything from the TF Layers packages. You **can** still use classes from other packages that happen to have the same name as ones you find in TF Layers! For example, instead of using the TF Layers version of the `conv2d` class, [tf.layers.conv2d](https://www.tensorflow.org/api_docs/python/tf/layers/conv2d), you would want to use the TF Neural Network version of `conv2d`, [tf.nn.conv2d](https://www.tensorflow.org/api_docs/python/tf/nn/conv2d). \n",
    "\n",
    "Let's begin!\n",
    "\n",
    "### Input\n",
    "The neural network needs to read the image data, one-hot encoded labels, and dropout keep probability. Implement the following functions\n",
    "* Implement `neural_net_image_input`\n",
    " * Return a [TF Placeholder](https://www.tensorflow.org/api_docs/python/tf/placeholder)\n",
    " * Set the shape using `image_shape` with batch size set to `None`.\n",
    " * Name the TensorFlow placeholder \"x\" using the TensorFlow `name` parameter in the [TF Placeholder](https://www.tensorflow.org/api_docs/python/tf/placeholder).\n",
    "* Implement `neural_net_label_input`\n",
    " * Return a [TF Placeholder](https://www.tensorflow.org/api_docs/python/tf/placeholder)\n",
    " * Set the shape using `n_classes` with batch size set to `None`.\n",
    " * Name the TensorFlow placeholder \"y\" using the TensorFlow `name` parameter in the [TF Placeholder](https://www.tensorflow.org/api_docs/python/tf/placeholder).\n",
    "* Implement `neural_net_keep_prob_input`\n",
    " * Return a [TF Placeholder](https://www.tensorflow.org/api_docs/python/tf/placeholder) for dropout keep probability.\n",
    " * Name the TensorFlow placeholder \"keep_prob\" using the TensorFlow `name` parameter in the [TF Placeholder](https://www.tensorflow.org/api_docs/python/tf/placeholder).\n",
    "\n",
    "These names will be used at the end of the project to load your saved model.\n",
    "\n",
    "Note: `None` for shapes in TensorFlow allow for a dynamic size."
   ]
  },
  {
   "cell_type": "code",
   "execution_count": 7,
   "metadata": {
    "collapsed": false
   },
   "outputs": [
    {
     "name": "stdout",
     "output_type": "stream",
     "text": [
      "Image Input Tests Passed.\n",
      "Label Input Tests Passed.\n",
      "Keep Prob Tests Passed.\n"
     ]
    }
   ],
   "source": [
    "import tensorflow as tf\n",
    "\n",
    "def neural_net_image_input(image_shape):\n",
    "    \"\"\"\n",
    "    Return a Tensor for a batch of image input\n",
    "    : image_shape: Shape of the images\n",
    "    : return: Tensor for image input.\n",
    "    \"\"\"\n",
    "    # TODO: Implement Function\n",
    "    return tf.placeholder(tf.float32, shape=(None,*image_shape) , name = 'x')\n",
    "\n",
    "\n",
    "def neural_net_label_input(n_classes):\n",
    "    \"\"\"\n",
    "    Return a Tensor for a batch of label input\n",
    "    : n_classes: Number of classes\n",
    "    : return: Tensor for label input.\n",
    "    \"\"\"\n",
    "    # TODO: Implement Function\n",
    "    return tf.placeholder(tf.float32 , shape = (None,n_classes),name = 'y')\n",
    "\n",
    "def neural_net_keep_prob_input():\n",
    "    \"\"\"\n",
    "    Return a Tensor for keep probability\n",
    "    : return: Tensor for keep probability.\n",
    "    \"\"\"\n",
    "    # TODO: Implement Function\n",
    "    return tf.placeholder(tf.float32 , name = 'keep_prob')\n",
    "\n",
    "\n",
    "\"\"\"\n",
    "DON'T MODIFY ANYTHING IN THIS CELL THAT IS BELOW THIS LINE\n",
    "\"\"\"\n",
    "tf.reset_default_graph()\n",
    "tests.test_nn_image_inputs(neural_net_image_input)\n",
    "tests.test_nn_label_inputs(neural_net_label_input)\n",
    "tests.test_nn_keep_prob_inputs(neural_net_keep_prob_input)"
   ]
  },
  {
   "cell_type": "markdown",
   "metadata": {},
   "source": [
    "### Convolution and Max Pooling Layer\n",
    "Convolution layers have a lot of success with images. For this code cell, you should implement the function `conv2d_maxpool` to apply convolution then max pooling:\n",
    "* Create the weight and bias using `conv_ksize`, `conv_num_outputs` and the shape of `x_tensor`.\n",
    "* Apply a convolution to `x_tensor` using weight and `conv_strides`.\n",
    " * We recommend you use same padding, but you're welcome to use any padding.\n",
    "* Add bias\n",
    "* Add a nonlinear activation to the convolution.\n",
    "* Apply Max Pooling using `pool_ksize` and `pool_strides`.\n",
    " * We recommend you use same padding, but you're welcome to use any padding.\n",
    "\n",
    "**Note:** You **can't** use [TensorFlow Layers](https://www.tensorflow.org/api_docs/python/tf/layers) or [TensorFlow Layers (contrib)](https://www.tensorflow.org/api_guides/python/contrib.layers) for **this** layer, but you can still use TensorFlow's [Neural Network](https://www.tensorflow.org/api_docs/python/tf/nn) package. You may still use the shortcut option for all the **other** layers.\n",
    "\n",
    "** Hint: **\n",
    "\n",
    "When unpacking values as an argument in Python, look into the [unpacking](https://docs.python.org/3/tutorial/controlflow.html#unpacking-argument-lists) operator. "
   ]
  },
  {
   "cell_type": "code",
   "execution_count": 8,
   "metadata": {
    "collapsed": false
   },
   "outputs": [
    {
     "name": "stdout",
     "output_type": "stream",
     "text": [
      "Tests Passed\n"
     ]
    }
   ],
   "source": [
    "def conv2d_maxpool(x_tensor, conv_num_outputs, conv_ksize, conv_strides, pool_ksize, pool_strides):\n",
    "    \"\"\"\n",
    "    Apply convolution then max pooling to x_tensor\n",
    "    :param x_tensor: TensorFlow Tensor\n",
    "    :param conv_num_outputs: Number of outputs for the convolutional layer\n",
    "    :param conv_ksize: kernal size 2-D Tuple for the convolutional layer\n",
    "    :param conv_strides: Stride 2-D Tuple for convolution\n",
    "    :param pool_ksize: kernal size 2-D Tuple for pool\n",
    "    :param pool_strides: Stride 2-D Tuple for pool\n",
    "    : return: A tensor that represents convolution and max pooling of x_tensor\n",
    "    \"\"\"\n",
    "    # TODO: Implement Function\n",
    "    \n",
    "    conv_ksize = [1, conv_ksize[0], conv_ksize[1], 1]\n",
    "    conv_num_inputs = x_tensor.get_shape().as_list()[3]\n",
    "    \n",
    "    conv_weight = tf.Variable(tf.truncated_normal([conv_ksize[0], conv_ksize[1], conv_num_inputs, conv_num_outputs], stddev=0.1))\n",
    "    conv_bias = tf.Variable(tf.zeros(conv_num_outputs))\n",
    "    \n",
    "    strides = [1, conv_strides[0],conv_strides[1],1]\n",
    "    \n",
    "    conv = tf.nn.conv2d(x_tensor, conv_weight, strides=strides,padding='SAME') + conv_bias\n",
    "    conv = tf.nn.relu(conv)\n",
    "    \n",
    "    pool_ksize = [1, pool_ksize[0], pool_ksize[1], 1]\n",
    "    pool_strides = [1, pool_strides[0], pool_strides[1], 1]\n",
    "    max_pooling_conv = tf.nn.max_pool(conv, ksize=pool_ksize,strides=pool_strides,padding='SAME')\n",
    "    \n",
    "    return max_pooling_conv    \n",
    "    \n",
    "    \n",
    "    \n",
    "\n",
    "\n",
    "\"\"\"\n",
    "DON'T MODIFY ANYTHING IN THIS CELL THAT IS BELOW THIS LINE\n",
    "\"\"\"\n",
    "tests.test_con_pool(conv2d_maxpool)"
   ]
  },
  {
   "cell_type": "markdown",
   "metadata": {},
   "source": [
    "### Flatten Layer\n",
    "Implement the `flatten` function to change the dimension of `x_tensor` from a 4-D tensor to a 2-D tensor.  The output should be the shape (*Batch Size*, *Flattened Image Size*). Shortcut option: you can use classes from the [TensorFlow Layers](https://www.tensorflow.org/api_docs/python/tf/layers) or [TensorFlow Layers (contrib)](https://www.tensorflow.org/api_guides/python/contrib.layers) packages for this layer. For more of a challenge, only use other TensorFlow packages."
   ]
  },
  {
   "cell_type": "code",
   "execution_count": 9,
   "metadata": {
    "collapsed": false
   },
   "outputs": [
    {
     "name": "stdout",
     "output_type": "stream",
     "text": [
      "Tests Passed\n"
     ]
    }
   ],
   "source": [
    "def flatten(x_tensor):\n",
    "    \"\"\"\n",
    "    Flatten x_tensor to (Batch Size, Flattened Image Size)\n",
    "    : x_tensor: A tensor of size (Batch Size, ...), where ... are the image dimensions.\n",
    "    : return: A tensor of size (Batch Size, Flattened Image Size).\n",
    "    \"\"\"\n",
    "    # TODO: Implement Function\n",
    "    dimension = 1\n",
    "    for shape in x_tensor.get_shape().as_list()[1:]:\n",
    "        dimension *= shape\n",
    "    return tf.reshape(x_tensor, [-1,dimension])\n",
    "\n",
    "\n",
    "\"\"\"\n",
    "DON'T MODIFY ANYTHING IN THIS CELL THAT IS BELOW THIS LINE\n",
    "\"\"\"\n",
    "tests.test_flatten(flatten)"
   ]
  },
  {
   "cell_type": "markdown",
   "metadata": {},
   "source": [
    "### Fully-Connected Layer\n",
    "Implement the `fully_conn` function to apply a fully connected layer to `x_tensor` with the shape (*Batch Size*, *num_outputs*). Shortcut option: you can use classes from the [TensorFlow Layers](https://www.tensorflow.org/api_docs/python/tf/layers) or [TensorFlow Layers (contrib)](https://www.tensorflow.org/api_guides/python/contrib.layers) packages for this layer. For more of a challenge, only use other TensorFlow packages."
   ]
  },
  {
   "cell_type": "code",
   "execution_count": 10,
   "metadata": {
    "collapsed": false
   },
   "outputs": [
    {
     "name": "stdout",
     "output_type": "stream",
     "text": [
      "Tests Passed\n"
     ]
    }
   ],
   "source": [
    "def fully_conn(x_tensor, num_outputs):\n",
    "    \"\"\"\n",
    "    Apply a fully connected layer to x_tensor using weight and bias\n",
    "    : x_tensor: A 2-D tensor where the first dimension is batch size.\n",
    "    : num_outputs: The number of output that the new tensor should be.\n",
    "    : return: A 2-D tensor where the second dimension is num_outputs.\n",
    "    \"\"\"\n",
    "    # TODO: Implement Function\n",
    "    #ALternative:\n",
    "    #tf.contrib.layers.fully_connected(x_tensor, num_outputs = num_outputs)\n",
    "\n",
    "    size = x_tensor.get_shape().as_list()[1]\n",
    "    weights = tf.Variable(tf.truncated_normal([size,num_outputs],mean =0,stddev=0.1),name='weights_fully_conn')\n",
    "    bias = tf.Variable(tf.zeros([num_outputs],name ='bias_fully_conn'))\n",
    "    fc1 = tf.nn.bias_add(tf.matmul(x_tensor,weights),bias)\n",
    "    \n",
    "    return tf.nn.relu(fc1) \n",
    "\"\"\"\n",
    "DON'T MODIFY ANYTHING IN THIS CELL THAT IS BELOW THIS LINE\n",
    "\"\"\"\n",
    "tests.test_fully_conn(fully_conn)"
   ]
  },
  {
   "cell_type": "markdown",
   "metadata": {},
   "source": [
    "### Output Layer\n",
    "Implement the `output` function to apply a fully connected layer to `x_tensor` with the shape (*Batch Size*, *num_outputs*). Shortcut option: you can use classes from the [TensorFlow Layers](https://www.tensorflow.org/api_docs/python/tf/layers) or [TensorFlow Layers (contrib)](https://www.tensorflow.org/api_guides/python/contrib.layers) packages for this layer. For more of a challenge, only use other TensorFlow packages.\n",
    "\n",
    "**Note:** Activation, softmax, or cross entropy should **not** be applied to this."
   ]
  },
  {
   "cell_type": "code",
   "execution_count": 11,
   "metadata": {
    "collapsed": false
   },
   "outputs": [
    {
     "name": "stdout",
     "output_type": "stream",
     "text": [
      "Tests Passed\n"
     ]
    }
   ],
   "source": [
    "def output(x_tensor, num_outputs):\n",
    "    \"\"\"\n",
    "    Apply a output layer to x_tensor using weight and bias\n",
    "    : x_tensor: A 2-D tensor where the first dimension is batch size.\n",
    "    : num_outputs: The number of output that the new tensor should be.\n",
    "    : return: A 2-D tensor where the second dimension is num_outputs.\n",
    "    \"\"\"\n",
    "    # TODO: Implement Function\n",
    "    #Alternative:\n",
    "    #return tf.contrib.layers.fully_connected(x_tensor, num_outputs = num_outputs)\n",
    "\n",
    "    \n",
    "    depth = x_tensor.get_shape().as_list()[1]\n",
    "    weights = tf.Variable(tf.random_normal([depth,num_outputs],mean=0,stddev=0.1), name = \"weights_fully_conn\")\n",
    "    bias = tf.Variable(tf.zeros([num_outputs]))\n",
    "    output = tf.nn.bias_add(tf.matmul(x_tensor,weights),bias)\n",
    "    \n",
    "    return output\n",
    "\n",
    "\n",
    "\"\"\"\n",
    "DON'T MODIFY ANYTHING IN THIS CELL THAT IS BELOW THIS LINE\n",
    "\"\"\"\n",
    "tests.test_output(output)"
   ]
  },
  {
   "cell_type": "markdown",
   "metadata": {},
   "source": [
    "### Create Convolutional Model\n",
    "Implement the function `conv_net` to create a convolutional neural network model. The function takes in a batch of images, `x`, and outputs logits.  Use the layers you created above to create this model:\n",
    "\n",
    "* Apply 1, 2, or 3 Convolution and Max Pool layers\n",
    "* Apply a Flatten Layer\n",
    "* Apply 1, 2, or 3 Fully Connected Layers\n",
    "* Apply an Output Layer\n",
    "* Return the output\n",
    "* Apply [TensorFlow's Dropout](https://www.tensorflow.org/api_docs/python/tf/nn/dropout) to one or more layers in the model using `keep_prob`. "
   ]
  },
  {
   "cell_type": "code",
   "execution_count": 13,
   "metadata": {
    "collapsed": false
   },
   "outputs": [
    {
     "name": "stdout",
     "output_type": "stream",
     "text": [
      "Neural Network Built!\n"
     ]
    }
   ],
   "source": [
    "def conv_net(x, keep_prob):\n",
    "    \"\"\"\n",
    "    Create a convolutional neural network model\n",
    "    : x: Placeholder tensor that holds image data.\n",
    "    : keep_prob: Placeholder tensor that hold dropout keep probability.\n",
    "    : return: Tensor that represents logits\n",
    "    \"\"\"\n",
    "    # TODO: Apply 1, 2, or 3 Convolution and Max Pool layers\n",
    "    #    Play around with different number of outputs, kernel size and stride\n",
    "    # Function Definition from Above:\n",
    "    #    conv2d_maxpool(x_tensor, conv_num_outputs, conv_ksize, conv_strides, pool_ksize, pool_strides)\n",
    "    \n",
    "    conv_num_outputs_1 = 32\n",
    "    conv_num_outputs_2 = 64\n",
    "    conv_num_outputs_3 = 128\n",
    "    \n",
    "    conv_ksize = [3, 3]\n",
    "    conv_strides = [1, 1]\n",
    "    pool_ksize = [2, 2]\n",
    "    pool_strides = [2, 2]\n",
    "    \n",
    "    conv_layer_1 = conv2d_maxpool(x, conv_num_outputs_1, conv_ksize, conv_strides, pool_ksize, pool_strides)\n",
    "    conv_layer_2 = conv2d_maxpool(conv_layer_1, conv_num_outputs_2, conv_ksize, conv_strides, pool_ksize, pool_strides)\n",
    "    conv_layer_3 = conv2d_maxpool(conv_layer_2, conv_num_outputs_3, conv_ksize, conv_strides, pool_ksize, pool_strides)\n",
    "    \n",
    "    \n",
    "\n",
    "    # TODO: Apply a Flatten Layer\n",
    "    # Function Definition from Above:\n",
    "    #   flatten(x_tensor)\n",
    "    x_tensor = flatten(conv_layer_3)\n",
    "\n",
    "    # TODO: Apply 1, 2, or 3 Fully Connected Layers\n",
    "    #    Play around with different number of outputs\n",
    "    # Function Definition from Above:\n",
    "    #   fully_conn(x_tensor, num_outputs)\n",
    "    \n",
    "    fully_connected_layer_1 = fully_conn(x_tensor, 100)\n",
    "    fully_dropout = tf.nn.dropout(fully_connected_layer_1, keep_prob)\n",
    "    \n",
    "    fully_connected_layer_2 = fully_conn(fully_dropout, 100)\n",
    "    \n",
    "    # TODO: Apply an Output Layer\n",
    "    #    Set this to the number of classes\n",
    "    # Function Definition from Above:\n",
    "    #   output(x_tensor, num_outputs)\n",
    "    final_output = output(fully_connected_layer_2, 10)\n",
    "    \n",
    "    # TODO: return output\n",
    "    return final_output\n",
    "\n",
    "\n",
    "\"\"\"\n",
    "DON'T MODIFY ANYTHING IN THIS CELL THAT IS BELOW THIS LINE\n",
    "\"\"\"\n",
    "\n",
    "##############################\n",
    "## Build the Neural Network ##\n",
    "##############################\n",
    "\n",
    "# Remove previous weights, bias, inputs, etc..\n",
    "tf.reset_default_graph()\n",
    "\n",
    "# Inputs\n",
    "x = neural_net_image_input((32, 32, 3))\n",
    "y = neural_net_label_input(10)\n",
    "keep_prob = neural_net_keep_prob_input()\n",
    "\n",
    "# Model\n",
    "logits = conv_net(x, keep_prob)\n",
    "\n",
    "# Name logits Tensor, so that is can be loaded from disk after training\n",
    "logits = tf.identity(logits, name='logits')\n",
    "\n",
    "# Loss and Optimizer\n",
    "cost = tf.reduce_mean(tf.nn.softmax_cross_entropy_with_logits(logits=logits, labels=y))\n",
    "optimizer = tf.train.AdamOptimizer().minimize(cost)\n",
    "\n",
    "# Accuracy\n",
    "correct_pred = tf.equal(tf.argmax(logits, 1), tf.argmax(y, 1))\n",
    "accuracy = tf.reduce_mean(tf.cast(correct_pred, tf.float32), name='accuracy')\n",
    "\n",
    "tests.test_conv_net(conv_net)"
   ]
  },
  {
   "cell_type": "markdown",
   "metadata": {},
   "source": [
    "## Train the Neural Network\n",
    "### Single Optimization\n",
    "Implement the function `train_neural_network` to do a single optimization.  The optimization should use `optimizer` to optimize in `session` with a `feed_dict` of the following:\n",
    "* `x` for image input\n",
    "* `y` for labels\n",
    "* `keep_prob` for keep probability for dropout\n",
    "\n",
    "This function will be called for each batch, so `tf.global_variables_initializer()` has already been called.\n",
    "\n",
    "Note: Nothing needs to be returned. This function is only optimizing the neural network."
   ]
  },
  {
   "cell_type": "code",
   "execution_count": 14,
   "metadata": {
    "collapsed": false
   },
   "outputs": [
    {
     "name": "stdout",
     "output_type": "stream",
     "text": [
      "Tests Passed\n"
     ]
    }
   ],
   "source": [
    "def train_neural_network(session, optimizer, keep_probability, feature_batch, label_batch):\n",
    "    \"\"\"\n",
    "    Optimize the session on a batch of images and labels\n",
    "    : session: Current TensorFlow session\n",
    "    : optimizer: TensorFlow optimizer function\n",
    "    : keep_probability: keep probability\n",
    "    : feature_batch: Batch of Numpy image data\n",
    "    : label_batch: Batch of Numpy label data\n",
    "    \"\"\"\n",
    "    # TODO: Implement Function\n",
    "    session.run(optimizer, feed_dict = {x:feature_batch, y: label_batch, keep_prob : keep_probability })\n",
    "    \n",
    "\n",
    "\n",
    "\"\"\"\n",
    "DON'T MODIFY ANYTHING IN THIS CELL THAT IS BELOW THIS LINE\n",
    "\"\"\"\n",
    "tests.test_train_nn(train_neural_network)"
   ]
  },
  {
   "cell_type": "markdown",
   "metadata": {},
   "source": [
    "### Show Stats\n",
    "Implement the function `print_stats` to print loss and validation accuracy.  Use the global variables `valid_features` and `valid_labels` to calculate validation accuracy.  Use a keep probability of `1.0` to calculate the loss and validation accuracy."
   ]
  },
  {
   "cell_type": "code",
   "execution_count": 15,
   "metadata": {
    "collapsed": false
   },
   "outputs": [],
   "source": [
    "def print_stats(session, feature_batch, label_batch, cost, accuracy):\n",
    "    \"\"\"\n",
    "    Print information about loss and validation accuracy\n",
    "    : session: Current TensorFlow session\n",
    "    : feature_batch: Batch of Numpy image data\n",
    "    : label_batch: Batch of Numpy label data\n",
    "    : cost: TensorFlow cost function\n",
    "    : accuracy: TensorFlow accuracy function\n",
    "    \"\"\"\n",
    "    # TODO: Implement Function\n",
    "    \n",
    "    cost = session.run(cost, feed_dict ={x: feature_batch,y: label_batch ,keep_prob :1.0})\n",
    "    accuracy = session.run( accuracy, feed_dict= {x: valid_features ,\n",
    "                                                  y: valid_labels ,\n",
    "                                                  keep_prob : 1.0})\n",
    "    \n",
    "    print('Cost:',cost,' Accuracy: ',accuracy)\n",
    "    pass"
   ]
  },
  {
   "cell_type": "markdown",
   "metadata": {},
   "source": [
    "### Hyperparameters\n",
    "Tune the following parameters:\n",
    "* Set `epochs` to the number of iterations until the network stops learning or start overfitting\n",
    "* Set `batch_size` to the highest number that your machine has memory for.  Most people set them to common sizes of memory:\n",
    " * 64\n",
    " * 128\n",
    " * 256\n",
    " * ...\n",
    "* Set `keep_probability` to the probability of keeping a node using dropout"
   ]
  },
  {
   "cell_type": "code",
   "execution_count": 16,
   "metadata": {
    "collapsed": true
   },
   "outputs": [],
   "source": [
    "# TODO: Tune Parameters\n",
    "epochs = 30\n",
    "batch_size = 128\n",
    "keep_probability = 0.8"
   ]
  },
  {
   "cell_type": "markdown",
   "metadata": {},
   "source": [
    "### Train on a Single CIFAR-10 Batch\n",
    "Instead of training the neural network on all the CIFAR-10 batches of data, let's use a single batch. This should save time while you iterate on the model to get a better accuracy.  Once the final validation accuracy is 50% or greater, run the model on all the data in the next section."
   ]
  },
  {
   "cell_type": "code",
   "execution_count": 17,
   "metadata": {
    "collapsed": false
   },
   "outputs": [
    {
     "name": "stdout",
     "output_type": "stream",
     "text": [
      "Checking the Training on a Single Batch...\n",
      "Epoch 1, CIFAR-10 Batch 1:  Cost: 2.07869  Accuracy:  0.2672\n",
      "Epoch 2, CIFAR-10 Batch 1:  Cost: 1.83134  Accuracy:  0.3826\n",
      "Epoch 3, CIFAR-10 Batch 1:  Cost: 1.72177  Accuracy:  0.4196\n",
      "Epoch 4, CIFAR-10 Batch 1:  Cost: 1.58925  Accuracy:  0.4554\n",
      "Epoch 5, CIFAR-10 Batch 1:  Cost: 1.45209  Accuracy:  0.4694\n",
      "Epoch 6, CIFAR-10 Batch 1:  Cost: 1.26595  Accuracy:  0.4876\n",
      "Epoch 7, CIFAR-10 Batch 1:  Cost: 1.24301  Accuracy:  0.499\n",
      "Epoch 8, CIFAR-10 Batch 1:  Cost: 1.15825  Accuracy:  0.5066\n",
      "Epoch 9, CIFAR-10 Batch 1:  Cost: 1.07641  Accuracy:  0.5156\n",
      "Epoch 10, CIFAR-10 Batch 1:  Cost: 1.04989  Accuracy:  0.5108\n",
      "Epoch 11, CIFAR-10 Batch 1:  Cost: 0.971862  Accuracy:  0.532\n",
      "Epoch 12, CIFAR-10 Batch 1:  Cost: 0.945306  Accuracy:  0.5262\n",
      "Epoch 13, CIFAR-10 Batch 1:  Cost: 0.856024  Accuracy:  0.5402\n",
      "Epoch 14, CIFAR-10 Batch 1:  Cost: 0.813439  Accuracy:  0.5448\n",
      "Epoch 15, CIFAR-10 Batch 1:  Cost: 0.795216  Accuracy:  0.549\n",
      "Epoch 16, CIFAR-10 Batch 1:  Cost: 0.73327  Accuracy:  0.5472\n",
      "Epoch 17, CIFAR-10 Batch 1:  Cost: 0.675624  Accuracy:  0.5392\n",
      "Epoch 18, CIFAR-10 Batch 1:  Cost: 0.663644  Accuracy:  0.554\n",
      "Epoch 19, CIFAR-10 Batch 1:  Cost: 0.565643  Accuracy:  0.5582\n",
      "Epoch 20, CIFAR-10 Batch 1:  Cost: 0.529801  Accuracy:  0.5662\n",
      "Epoch 21, CIFAR-10 Batch 1:  Cost: 0.464399  Accuracy:  0.5616\n",
      "Epoch 22, CIFAR-10 Batch 1:  Cost: 0.430535  Accuracy:  0.5582\n",
      "Epoch 23, CIFAR-10 Batch 1:  Cost: 0.387715  Accuracy:  0.5664\n",
      "Epoch 24, CIFAR-10 Batch 1:  Cost: 0.395002  Accuracy:  0.5644\n",
      "Epoch 25, CIFAR-10 Batch 1:  Cost: 0.411118  Accuracy:  0.565\n",
      "Epoch 26, CIFAR-10 Batch 1:  Cost: 0.39002  Accuracy:  0.5644\n",
      "Epoch 27, CIFAR-10 Batch 1:  Cost: 0.324461  Accuracy:  0.5764\n",
      "Epoch 28, CIFAR-10 Batch 1:  Cost: 0.297334  Accuracy:  0.5604\n",
      "Epoch 29, CIFAR-10 Batch 1:  Cost: 0.290822  Accuracy:  0.5622\n",
      "Epoch 30, CIFAR-10 Batch 1:  Cost: 0.283702  Accuracy:  0.5658\n"
     ]
    }
   ],
   "source": [
    "\"\"\"\n",
    "DON'T MODIFY ANYTHING IN THIS CELL\n",
    "\"\"\"\n",
    "print('Checking the Training on a Single Batch...')\n",
    "with tf.Session() as sess:\n",
    "    # Initializing the variables\n",
    "    sess.run(tf.global_variables_initializer())\n",
    "    \n",
    "    # Training cycle\n",
    "    for epoch in range(epochs):\n",
    "        batch_i = 1\n",
    "        for batch_features, batch_labels in helper.load_preprocess_training_batch(batch_i, batch_size):\n",
    "            train_neural_network(sess, optimizer, keep_probability, batch_features, batch_labels)\n",
    "        print('Epoch {:>1}, CIFAR-10 Batch {}:  '.format(epoch + 1, batch_i), end='')\n",
    "        print_stats(sess, batch_features, batch_labels, cost, accuracy)"
   ]
  },
  {
   "cell_type": "markdown",
   "metadata": {},
   "source": [
    "### Fully Train the Model\n",
    "Now that you got a good accuracy with a single CIFAR-10 batch, try it with all five batches."
   ]
  },
  {
   "cell_type": "code",
   "execution_count": 18,
   "metadata": {
    "collapsed": false
   },
   "outputs": [
    {
     "name": "stdout",
     "output_type": "stream",
     "text": [
      "Training...\n",
      "Epoch  1, CIFAR-10 Batch 1:  Cost: 2.14124  Accuracy:  0.2786\n",
      "Epoch  1, CIFAR-10 Batch 2:  Cost: 1.77147  Accuracy:  0.3734\n",
      "Epoch  1, CIFAR-10 Batch 3:  Cost: 1.50721  Accuracy:  0.4132\n",
      "Epoch  1, CIFAR-10 Batch 4:  Cost: 1.47526  Accuracy:  0.4572\n",
      "Epoch  1, CIFAR-10 Batch 5:  Cost: 1.65431  Accuracy:  0.4802\n",
      "Epoch  2, CIFAR-10 Batch 1:  Cost: 1.5801  Accuracy:  0.4904\n",
      "Epoch  2, CIFAR-10 Batch 2:  Cost: 1.39636  Accuracy:  0.4874\n",
      "Epoch  2, CIFAR-10 Batch 3:  Cost: 1.22593  Accuracy:  0.5002\n",
      "Epoch  2, CIFAR-10 Batch 4:  Cost: 1.19813  Accuracy:  0.5264\n",
      "Epoch  2, CIFAR-10 Batch 5:  Cost: 1.44154  Accuracy:  0.5294\n",
      "Epoch  3, CIFAR-10 Batch 1:  Cost: 1.33296  Accuracy:  0.5338\n",
      "Epoch  3, CIFAR-10 Batch 2:  Cost: 1.24912  Accuracy:  0.5412\n",
      "Epoch  3, CIFAR-10 Batch 3:  Cost: 1.0894  Accuracy:  0.5558\n",
      "Epoch  3, CIFAR-10 Batch 4:  Cost: 1.05386  Accuracy:  0.5654\n",
      "Epoch  3, CIFAR-10 Batch 5:  Cost: 1.28058  Accuracy:  0.5672\n",
      "Epoch  4, CIFAR-10 Batch 1:  Cost: 1.21717  Accuracy:  0.5544\n",
      "Epoch  4, CIFAR-10 Batch 2:  Cost: 1.1253  Accuracy:  0.5816\n",
      "Epoch  4, CIFAR-10 Batch 3:  Cost: 1.07129  Accuracy:  0.5766\n",
      "Epoch  4, CIFAR-10 Batch 4:  Cost: 0.954136  Accuracy:  0.5778\n",
      "Epoch  4, CIFAR-10 Batch 5:  Cost: 1.121  Accuracy:  0.5974\n",
      "Epoch  5, CIFAR-10 Batch 1:  Cost: 1.1317  Accuracy:  0.5984\n",
      "Epoch  5, CIFAR-10 Batch 2:  Cost: 1.04444  Accuracy:  0.5952\n",
      "Epoch  5, CIFAR-10 Batch 3:  Cost: 0.970302  Accuracy:  0.5996\n",
      "Epoch  5, CIFAR-10 Batch 4:  Cost: 0.811468  Accuracy:  0.5946\n",
      "Epoch  5, CIFAR-10 Batch 5:  Cost: 1.02497  Accuracy:  0.6078\n",
      "Epoch  6, CIFAR-10 Batch 1:  Cost: 1.08973  Accuracy:  0.603\n",
      "Epoch  6, CIFAR-10 Batch 2:  Cost: 0.879413  Accuracy:  0.6124\n",
      "Epoch  6, CIFAR-10 Batch 3:  Cost: 0.812505  Accuracy:  0.6124\n",
      "Epoch  6, CIFAR-10 Batch 4:  Cost: 0.702551  Accuracy:  0.6062\n",
      "Epoch  6, CIFAR-10 Batch 5:  Cost: 0.937174  Accuracy:  0.623\n",
      "Epoch  7, CIFAR-10 Batch 1:  Cost: 0.956006  Accuracy:  0.6228\n",
      "Epoch  7, CIFAR-10 Batch 2:  Cost: 0.845321  Accuracy:  0.6254\n",
      "Epoch  7, CIFAR-10 Batch 3:  Cost: 0.757609  Accuracy:  0.6248\n",
      "Epoch  7, CIFAR-10 Batch 4:  Cost: 0.629166  Accuracy:  0.6316\n",
      "Epoch  7, CIFAR-10 Batch 5:  Cost: 0.844661  Accuracy:  0.6346\n",
      "Epoch  8, CIFAR-10 Batch 1:  Cost: 0.926465  Accuracy:  0.626\n",
      "Epoch  8, CIFAR-10 Batch 2:  Cost: 0.74872  Accuracy:  0.6324\n",
      "Epoch  8, CIFAR-10 Batch 3:  Cost: 0.693948  Accuracy:  0.6388\n",
      "Epoch  8, CIFAR-10 Batch 4:  Cost: 0.587261  Accuracy:  0.6334\n",
      "Epoch  8, CIFAR-10 Batch 5:  Cost: 0.74477  Accuracy:  0.6466\n",
      "Epoch  9, CIFAR-10 Batch 1:  Cost: 0.816466  Accuracy:  0.625\n",
      "Epoch  9, CIFAR-10 Batch 2:  Cost: 0.655168  Accuracy:  0.6364\n",
      "Epoch  9, CIFAR-10 Batch 3:  Cost: 0.605269  Accuracy:  0.6476\n",
      "Epoch  9, CIFAR-10 Batch 4:  Cost: 0.549055  Accuracy:  0.6406\n",
      "Epoch  9, CIFAR-10 Batch 5:  Cost: 0.688353  Accuracy:  0.646\n",
      "Epoch 10, CIFAR-10 Batch 1:  Cost: 0.786315  Accuracy:  0.6356\n",
      "Epoch 10, CIFAR-10 Batch 2:  Cost: 0.644047  Accuracy:  0.6446\n",
      "Epoch 10, CIFAR-10 Batch 3:  Cost: 0.544801  Accuracy:  0.6546\n",
      "Epoch 10, CIFAR-10 Batch 4:  Cost: 0.440019  Accuracy:  0.6462\n",
      "Epoch 10, CIFAR-10 Batch 5:  Cost: 0.594829  Accuracy:  0.6602\n",
      "Epoch 11, CIFAR-10 Batch 1:  Cost: 0.742832  Accuracy:  0.649\n",
      "Epoch 11, CIFAR-10 Batch 2:  Cost: 0.575327  Accuracy:  0.6444\n",
      "Epoch 11, CIFAR-10 Batch 3:  Cost: 0.483599  Accuracy:  0.6598\n",
      "Epoch 11, CIFAR-10 Batch 4:  Cost: 0.42212  Accuracy:  0.6572\n",
      "Epoch 11, CIFAR-10 Batch 5:  Cost: 0.542851  Accuracy:  0.6574\n",
      "Epoch 12, CIFAR-10 Batch 1:  Cost: 0.666714  Accuracy:  0.6512\n",
      "Epoch 12, CIFAR-10 Batch 2:  Cost: 0.492283  Accuracy:  0.6538\n",
      "Epoch 12, CIFAR-10 Batch 3:  Cost: 0.431362  Accuracy:  0.6626\n",
      "Epoch 12, CIFAR-10 Batch 4:  Cost: 0.356808  Accuracy:  0.6578\n",
      "Epoch 12, CIFAR-10 Batch 5:  Cost: 0.494296  Accuracy:  0.6628\n",
      "Epoch 13, CIFAR-10 Batch 1:  Cost: 0.637274  Accuracy:  0.634\n",
      "Epoch 13, CIFAR-10 Batch 2:  Cost: 0.439814  Accuracy:  0.659\n",
      "Epoch 13, CIFAR-10 Batch 3:  Cost: 0.394987  Accuracy:  0.6698\n",
      "Epoch 13, CIFAR-10 Batch 4:  Cost: 0.323527  Accuracy:  0.66\n",
      "Epoch 13, CIFAR-10 Batch 5:  Cost: 0.421552  Accuracy:  0.6702\n",
      "Epoch 14, CIFAR-10 Batch 1:  Cost: 0.578166  Accuracy:  0.6478\n",
      "Epoch 14, CIFAR-10 Batch 2:  Cost: 0.406907  Accuracy:  0.661\n",
      "Epoch 14, CIFAR-10 Batch 3:  Cost: 0.350629  Accuracy:  0.6722\n",
      "Epoch 14, CIFAR-10 Batch 4:  Cost: 0.270273  Accuracy:  0.6634\n",
      "Epoch 14, CIFAR-10 Batch 5:  Cost: 0.41681  Accuracy:  0.6632\n",
      "Epoch 15, CIFAR-10 Batch 1:  Cost: 0.552274  Accuracy:  0.6496\n",
      "Epoch 15, CIFAR-10 Batch 2:  Cost: 0.380655  Accuracy:  0.6702\n",
      "Epoch 15, CIFAR-10 Batch 3:  Cost: 0.308973  Accuracy:  0.6638\n",
      "Epoch 15, CIFAR-10 Batch 4:  Cost: 0.284014  Accuracy:  0.657\n",
      "Epoch 15, CIFAR-10 Batch 5:  Cost: 0.377161  Accuracy:  0.664\n",
      "Epoch 16, CIFAR-10 Batch 1:  Cost: 0.489292  Accuracy:  0.6572\n",
      "Epoch 16, CIFAR-10 Batch 2:  Cost: 0.3437  Accuracy:  0.6654\n",
      "Epoch 16, CIFAR-10 Batch 3:  Cost: 0.319467  Accuracy:  0.6504\n",
      "Epoch 16, CIFAR-10 Batch 4:  Cost: 0.267836  Accuracy:  0.6692\n",
      "Epoch 16, CIFAR-10 Batch 5:  Cost: 0.285415  Accuracy:  0.6736\n",
      "Epoch 17, CIFAR-10 Batch 1:  Cost: 0.447685  Accuracy:  0.6598\n",
      "Epoch 17, CIFAR-10 Batch 2:  Cost: 0.322237  Accuracy:  0.6716\n",
      "Epoch 17, CIFAR-10 Batch 3:  Cost: 0.262829  Accuracy:  0.6688\n",
      "Epoch 17, CIFAR-10 Batch 4:  Cost: 0.25469  Accuracy:  0.6678\n",
      "Epoch 17, CIFAR-10 Batch 5:  Cost: 0.302118  Accuracy:  0.6708\n",
      "Epoch 18, CIFAR-10 Batch 1:  Cost: 0.422565  Accuracy:  0.6628\n",
      "Epoch 18, CIFAR-10 Batch 2:  Cost: 0.31555  Accuracy:  0.6642\n",
      "Epoch 18, CIFAR-10 Batch 3:  Cost: 0.229209  Accuracy:  0.6636\n",
      "Epoch 18, CIFAR-10 Batch 4:  Cost: 0.269945  Accuracy:  0.6622\n",
      "Epoch 18, CIFAR-10 Batch 5:  Cost: 0.268748  Accuracy:  0.6686\n",
      "Epoch 19, CIFAR-10 Batch 1:  Cost: 0.411168  Accuracy:  0.6672\n",
      "Epoch 19, CIFAR-10 Batch 2:  Cost: 0.324714  Accuracy:  0.6568\n",
      "Epoch 19, CIFAR-10 Batch 3:  Cost: 0.194279  Accuracy:  0.6686\n",
      "Epoch 19, CIFAR-10 Batch 4:  Cost: 0.216864  Accuracy:  0.6674\n",
      "Epoch 19, CIFAR-10 Batch 5:  Cost: 0.254663  Accuracy:  0.6738\n",
      "Epoch 20, CIFAR-10 Batch 1:  Cost: 0.33442  Accuracy:  0.6586\n",
      "Epoch 20, CIFAR-10 Batch 2:  Cost: 0.233245  Accuracy:  0.6634\n",
      "Epoch 20, CIFAR-10 Batch 3:  Cost: 0.188435  Accuracy:  0.6646\n",
      "Epoch 20, CIFAR-10 Batch 4:  Cost: 0.224516  Accuracy:  0.663\n",
      "Epoch 20, CIFAR-10 Batch 5:  Cost: 0.235114  Accuracy:  0.6598\n",
      "Epoch 21, CIFAR-10 Batch 1:  Cost: 0.301361  Accuracy:  0.6688\n",
      "Epoch 21, CIFAR-10 Batch 2:  Cost: 0.204587  Accuracy:  0.6682\n",
      "Epoch 21, CIFAR-10 Batch 3:  Cost: 0.188797  Accuracy:  0.6708\n",
      "Epoch 21, CIFAR-10 Batch 4:  Cost: 0.224245  Accuracy:  0.6496\n",
      "Epoch 21, CIFAR-10 Batch 5:  Cost: 0.206781  Accuracy:  0.6606\n",
      "Epoch 22, CIFAR-10 Batch 1:  Cost: 0.293917  Accuracy:  0.6618\n",
      "Epoch 22, CIFAR-10 Batch 2:  Cost: 0.188694  Accuracy:  0.6708\n",
      "Epoch 22, CIFAR-10 Batch 3:  Cost: 0.171181  Accuracy:  0.669\n",
      "Epoch 22, CIFAR-10 Batch 4:  Cost: 0.218136  Accuracy:  0.6604\n",
      "Epoch 22, CIFAR-10 Batch 5:  Cost: 0.218867  Accuracy:  0.6578\n",
      "Epoch 23, CIFAR-10 Batch 1:  Cost: 0.304317  Accuracy:  0.6606\n",
      "Epoch 23, CIFAR-10 Batch 2:  Cost: 0.146151  Accuracy:  0.678\n",
      "Epoch 23, CIFAR-10 Batch 3:  Cost: 0.122888  Accuracy:  0.6674\n",
      "Epoch 23, CIFAR-10 Batch 4:  Cost: 0.155853  Accuracy:  0.6578\n",
      "Epoch 23, CIFAR-10 Batch 5:  Cost: 0.172528  Accuracy:  0.6538\n",
      "Epoch 24, CIFAR-10 Batch 1:  Cost: 0.228138  Accuracy:  0.6612\n",
      "Epoch 24, CIFAR-10 Batch 2:  Cost: 0.11511  Accuracy:  0.671\n",
      "Epoch 24, CIFAR-10 Batch 3:  Cost: 0.136757  Accuracy:  0.6592\n",
      "Epoch 24, CIFAR-10 Batch 4:  Cost: 0.161135  Accuracy:  0.6596\n",
      "Epoch 24, CIFAR-10 Batch 5:  Cost: 0.132393  Accuracy:  0.6584\n",
      "Epoch 25, CIFAR-10 Batch 1:  Cost: 0.240753  Accuracy:  0.6544\n",
      "Epoch 25, CIFAR-10 Batch 2:  Cost: 0.127693  Accuracy:  0.663\n",
      "Epoch 25, CIFAR-10 Batch 3:  Cost: 0.103023  Accuracy:  0.6618\n",
      "Epoch 25, CIFAR-10 Batch 4:  Cost: 0.14358  Accuracy:  0.6604\n",
      "Epoch 25, CIFAR-10 Batch 5:  Cost: 0.130763  Accuracy:  0.6612\n",
      "Epoch 26, CIFAR-10 Batch 1:  Cost: 0.187022  Accuracy:  0.6712\n",
      "Epoch 26, CIFAR-10 Batch 2:  Cost: 0.122477  Accuracy:  0.6636\n",
      "Epoch 26, CIFAR-10 Batch 3:  Cost: 0.0940609  Accuracy:  0.665\n",
      "Epoch 26, CIFAR-10 Batch 4:  Cost: 0.147654  Accuracy:  0.6642\n",
      "Epoch 26, CIFAR-10 Batch 5:  Cost: 0.152273  Accuracy:  0.6628\n",
      "Epoch 27, CIFAR-10 Batch 1:  Cost: 0.167014  Accuracy:  0.667\n",
      "Epoch 27, CIFAR-10 Batch 2:  Cost: 0.102542  Accuracy:  0.669\n",
      "Epoch 27, CIFAR-10 Batch 3:  Cost: 0.117941  Accuracy:  0.6534\n",
      "Epoch 27, CIFAR-10 Batch 4:  Cost: 0.130245  Accuracy:  0.66\n",
      "Epoch 27, CIFAR-10 Batch 5:  Cost: 0.105695  Accuracy:  0.6664\n",
      "Epoch 28, CIFAR-10 Batch 1:  Cost: 0.140918  Accuracy:  0.6662\n",
      "Epoch 28, CIFAR-10 Batch 2:  Cost: 0.0914634  Accuracy:  0.6654\n",
      "Epoch 28, CIFAR-10 Batch 3:  Cost: 0.0864008  Accuracy:  0.6628\n",
      "Epoch 28, CIFAR-10 Batch 4:  Cost: 0.149248  Accuracy:  0.6424\n",
      "Epoch 28, CIFAR-10 Batch 5:  Cost: 0.0930343  Accuracy:  0.6688\n",
      "Epoch 29, CIFAR-10 Batch 1:  Cost: 0.12064  Accuracy:  0.6624\n",
      "Epoch 29, CIFAR-10 Batch 2:  Cost: 0.0827744  Accuracy:  0.6708\n",
      "Epoch 29, CIFAR-10 Batch 3:  Cost: 0.0841056  Accuracy:  0.6516\n",
      "Epoch 29, CIFAR-10 Batch 4:  Cost: 0.129506  Accuracy:  0.6566\n",
      "Epoch 29, CIFAR-10 Batch 5:  Cost: 0.0837403  Accuracy:  0.67\n",
      "Epoch 30, CIFAR-10 Batch 1:  Cost: 0.130834  Accuracy:  0.6634\n",
      "Epoch 30, CIFAR-10 Batch 2:  Cost: 0.0801928  Accuracy:  0.6608\n",
      "Epoch 30, CIFAR-10 Batch 3:  Cost: 0.0958987  Accuracy:  0.6494\n",
      "Epoch 30, CIFAR-10 Batch 4:  Cost: 0.120872  Accuracy:  0.66\n",
      "Epoch 30, CIFAR-10 Batch 5:  Cost: 0.0933657  Accuracy:  0.6708\n"
     ]
    }
   ],
   "source": [
    "\"\"\"\n",
    "DON'T MODIFY ANYTHING IN THIS CELL\n",
    "\"\"\"\n",
    "save_model_path = './image_classification'\n",
    "\n",
    "print('Training...')\n",
    "with tf.Session() as sess:\n",
    "    # Initializing the variables\n",
    "    sess.run(tf.global_variables_initializer())\n",
    "    \n",
    "    # Training cycle\n",
    "    for epoch in range(epochs):\n",
    "        # Loop over all batches\n",
    "        n_batches = 5\n",
    "        for batch_i in range(1, n_batches + 1):\n",
    "            for batch_features, batch_labels in helper.load_preprocess_training_batch(batch_i, batch_size):\n",
    "                train_neural_network(sess, optimizer, keep_probability, batch_features, batch_labels)\n",
    "            print('Epoch {:>2}, CIFAR-10 Batch {}:  '.format(epoch + 1, batch_i), end='')\n",
    "            print_stats(sess, batch_features, batch_labels, cost, accuracy)\n",
    "            \n",
    "    # Save Model\n",
    "    saver = tf.train.Saver()\n",
    "    save_path = saver.save(sess, save_model_path)"
   ]
  },
  {
   "cell_type": "markdown",
   "metadata": {},
   "source": [
    "# Checkpoint\n",
    "The model has been saved to disk.\n",
    "## Test Model\n",
    "Test your model against the test dataset.  This will be your final accuracy. You should have an accuracy greater than 50%. If you don't, keep tweaking the model architecture and parameters."
   ]
  },
  {
   "cell_type": "code",
   "execution_count": 19,
   "metadata": {
    "collapsed": false
   },
   "outputs": [
    {
     "name": "stdout",
     "output_type": "stream",
     "text": [
      "Testing Accuracy: 0.6679193037974683\n",
      "\n"
     ]
    },
    {
     "data": {
      "image/png": "[encoded data removed]",
      "text/plain": [
       "<matplotlib.figure.Figure at 0x1c0003cd9e8>"
      ]
     },
     "metadata": {
      "image/png": {
       "height": 319,
       "width": 355
      }
     },
     "output_type": "display_data"
    }
   ],
   "source": [
    "\"\"\"\n",
    "DON'T MODIFY ANYTHING IN THIS CELL\n",
    "\"\"\"\n",
    "%matplotlib inline\n",
    "%config InlineBackend.figure_format = 'retina'\n",
    "\n",
    "import tensorflow as tf\n",
    "import pickle\n",
    "import helper\n",
    "import random\n",
    "\n",
    "# Set batch size if not already set\n",
    "try:\n",
    "    if batch_size:\n",
    "        pass\n",
    "except NameError:\n",
    "    batch_size = 64\n",
    "\n",
    "save_model_path = './image_classification'\n",
    "n_samples = 4\n",
    "top_n_predictions = 3\n",
    "\n",
    "def test_model():\n",
    "    \"\"\"\n",
    "    Test the saved model against the test dataset\n",
    "    \"\"\"\n",
    "\n",
    "    test_features, test_labels = pickle.load(open('preprocess_training.p', mode='rb'))\n",
    "    loaded_graph = tf.Graph()\n",
    "\n",
    "    with tf.Session(graph=loaded_graph) as sess:\n",
    "        # Load model\n",
    "        loader = tf.train.import_meta_graph(save_model_path + '.meta')\n",
    "        loader.restore(sess, save_model_path)\n",
    "\n",
    "        # Get Tensors from loaded model\n",
    "        loaded_x = loaded_graph.get_tensor_by_name('x:0')\n",
    "        loaded_y = loaded_graph.get_tensor_by_name('y:0')\n",
    "        loaded_keep_prob = loaded_graph.get_tensor_by_name('keep_prob:0')\n",
    "        loaded_logits = loaded_graph.get_tensor_by_name('logits:0')\n",
    "        loaded_acc = loaded_graph.get_tensor_by_name('accuracy:0')\n",
    "        \n",
    "        # Get accuracy in batches for memory limitations\n",
    "        test_batch_acc_total = 0\n",
    "        test_batch_count = 0\n",
    "        \n",
    "        for train_feature_batch, train_label_batch in helper.batch_features_labels(test_features, test_labels, batch_size):\n",
    "            test_batch_acc_total += sess.run(\n",
    "                loaded_acc,\n",
    "                feed_dict={loaded_x: train_feature_batch, loaded_y: train_label_batch, loaded_keep_prob: 1.0})\n",
    "            test_batch_count += 1\n",
    "\n",
    "        print('Testing Accuracy: {}\\n'.format(test_batch_acc_total/test_batch_count))\n",
    "\n",
    "        # Print Random Samples\n",
    "        random_test_features, random_test_labels = tuple(zip(*random.sample(list(zip(test_features, test_labels)), n_samples)))\n",
    "        random_test_predictions = sess.run(\n",
    "            tf.nn.top_k(tf.nn.softmax(loaded_logits), top_n_predictions),\n",
    "            feed_dict={loaded_x: random_test_features, loaded_y: random_test_labels, loaded_keep_prob: 1.0})\n",
    "        helper.display_image_predictions(random_test_features, random_test_labels, random_test_predictions)\n",
    "\n",
    "\n",
    "test_model()"
   ]
  },
  {
   "cell_type": "markdown",
   "metadata": {},
   "source": [
    "## Why 50-80% Accuracy?\n",
    "You might be wondering why you can't get an accuracy any higher. First things first, 50% isn't bad for a simple CNN.  Pure guessing would get you 10% accuracy. That's because there are many more techniques that can be applied to your model and we recemmond that once you are done with this project, you explore!\n",
    "\n",
    "## Submitting This Project\n",
    "When submitting this project, make sure to run all the cells before saving the notebook.  Save the notebook file as \"image_classification.ipynb\" and save it as a HTML file under \"File\" -> \"Download as\".  Include the \"helper.py\" and \"problem_unittests.py\" files in your submission."
   ]
  }
 ],
 "metadata": {
  "anaconda-cloud": {},
  "kernelspec": {
   "display_name": "Python 3",
   "language": "python",
   "name": "python3"
  },
  "language_info": {
   "codemirror_mode": {
    "name": "ipython",
    "version": 3
   },
   "file_extension": ".py",
   "mimetype": "text/x-python",
   "name": "python",
   "nbconvert_exporter": "python",
   "pygments_lexer": "ipython3",
   "version": "3.5.2"
  }
 },
 "nbformat": 4,
 "nbformat_minor": 0
}
